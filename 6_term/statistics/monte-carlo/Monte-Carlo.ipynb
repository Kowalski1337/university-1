{
 "cells": [
  {
   "cell_type": "markdown",
   "metadata": {},
   "source": [
    "# Метод Монте-Карло\n",
    "Оганджанян Артем, M3339, вариант 11"
   ]
  },
  {
   "cell_type": "code",
   "execution_count": 1,
   "metadata": {
    "collapsed": true
   },
   "outputs": [],
   "source": [
    "import numpy as np\n",
    "import scipy.stats\n",
    "import math"
   ]
  },
  {
   "cell_type": "code",
   "execution_count": 2,
   "metadata": {
    "collapsed": false
   },
   "outputs": [
    {
     "name": "stdout",
     "output_type": "stream",
     "text": [
      "1.95996398454\n"
     ]
    }
   ],
   "source": [
    "gamma = 0.95\n",
    "t = scipy.stats.norm.ppf((1 + gamma) / 2)\n",
    "print(t)"
   ]
  },
  {
   "cell_type": "markdown",
   "metadata": {},
   "source": [
    "$$t = \\text{квантиль}\\left(\\frac{1+\\gamma}{2}\\right) = 1.9599639845$$"
   ]
  },
  {
   "cell_type": "markdown",
   "metadata": {},
   "source": [
    "$$\\Delta = \\frac{t \\cdot \\sigma}{\\sqrt{n}}$$"
   ]
  },
  {
   "cell_type": "markdown",
   "metadata": {},
   "source": [
    "## Задание 1"
   ]
  },
  {
   "cell_type": "markdown",
   "metadata": {},
   "source": [
    "$$f(x) = e^{-ax} \\qquad k = 10 \\qquad c = 8.8 \\qquad a = 0.35$$"
   ]
  },
  {
   "cell_type": "code",
   "execution_count": 3,
   "metadata": {
    "collapsed": true
   },
   "outputs": [],
   "source": [
    "a = 0.35\n",
    "f = lambda x : np.exp(-a * x)\n",
    "k = 10\n",
    "c = 8.8"
   ]
  },
  {
   "cell_type": "code",
   "execution_count": 4,
   "metadata": {
    "collapsed": true
   },
   "outputs": [],
   "source": [
    "def task_1(n):\n",
    "    fx = f(np.random.uniform(size = n * k)).reshape((n, k))\n",
    "    Fx = (np.apply_along_axis(np.sum, 1, fx) <= c).astype(np.float)\n",
    "    mean = np.average(Fx)\n",
    "    variance = np.average((Fx - mean) ** 2)\n",
    "    deviation = math.sqrt(variance)\n",
    "    confidence = t * deviation / math.sqrt(n)\n",
    "    return (mean, confidence)"
   ]
  },
  {
   "cell_type": "code",
   "execution_count": 5,
   "metadata": {
    "collapsed": false
   },
   "outputs": [
    {
     "name": "stdout",
     "output_type": "stream",
     "text": [
      "10000 итераций:\n",
      "\tОбъём 0.906 ± 0.005719737747533486;\n",
      "\tДоверительный интервал (0.9002802622524665, 0.9117197377475336)\n",
      "\n",
      "1000000 итераций:\n",
      "\tОбъём 0.908992 ± 0.0005637257936707053;\n",
      "\tДоверительный интервал (0.9084282742063293, 0.9095557257936707)\n",
      "\n"
     ]
    }
   ],
   "source": [
    "for n in [10000, 1000000]:\n",
    "    value, confidence = task_1(n)\n",
    "    print(\"{} итераций:\\n\\tОбъём {} ± {};\\n\\tДоверительный интервал ({}, {})\"\n",
    "        .format(n, value, confidence, value - confidence, value + confidence))\n",
    "    print()"
   ]
  },
  {
   "cell_type": "markdown",
   "metadata": {},
   "source": [
    "## Задание 2"
   ]
  },
  {
   "cell_type": "markdown",
   "metadata": {},
   "source": [
    "$$\\int_0^\\infty \\sqrt{1+x^2} \\exp(-3x) \\mathrm{d}x \\approx 0.364129 \\text{ (Вольфрам)}$$"
   ]
  },
  {
   "cell_type": "code",
   "execution_count": 6,
   "metadata": {
    "collapsed": true
   },
   "outputs": [],
   "source": [
    "def task_2(n):\n",
    "    fx = np.sqrt(1 + np.random.exponential(scale = 1/3, size = n) ** 2)\n",
    "    mean = np.average(fx)\n",
    "    variance = np.average((fx - mean) ** 2)\n",
    "    deviation = math.sqrt(variance)\n",
    "    confidence = t * deviation / math.sqrt(n)\n",
    "    return (mean / 3, confidence / 3)"
   ]
  },
  {
   "cell_type": "code",
   "execution_count": 7,
   "metadata": {
    "collapsed": false
   },
   "outputs": [
    {
     "name": "stdout",
     "output_type": "stream",
     "text": [
      "10000 итераций:\n",
      "\tИнтеграл 0.3644574603454746 ± 0.0011294115056231994;\n",
      "\tДоверительный интервал (0.3633280488398514, 0.3655868718510978)\n",
      "\n",
      "1000000 итераций:\n",
      "\tИнтеграл 0.3641025784710807 ± 0.00011112799664332449;\n",
      "\tДоверительный интервал (0.3639914504744374, 0.364213706467724)\n",
      "\n"
     ]
    }
   ],
   "source": [
    "for n in [10000, 1000000]:\n",
    "    value, confidence = task_2(n)\n",
    "    print(\"{} итераций:\\n\\tИнтеграл {} ± {};\\n\\tДоверительный интервал ({}, {})\"\n",
    "        .format(n, value, confidence, value - confidence, value + confidence))\n",
    "    print()"
   ]
  },
  {
   "cell_type": "markdown",
   "metadata": {},
   "source": [
    "## Задание 3"
   ]
  },
  {
   "cell_type": "markdown",
   "metadata": {},
   "source": [
    "$$\\int_4^9 \\frac{\\ln(x)}{x+1} \\mathrm{d}x \\approx 1.24742 \\text{ (Вольфрам)}$$"
   ]
  },
  {
   "cell_type": "code",
   "execution_count": 8,
   "metadata": {
    "collapsed": true
   },
   "outputs": [],
   "source": [
    "def task_3(n):\n",
    "    xs = np.random.uniform(size = n, low = 4, high = 9)\n",
    "    fx = np.log(xs) / (xs + 1)\n",
    "    mean = np.average(fx)\n",
    "    variance = np.average((fx - mean) ** 2)\n",
    "    deviation = math.sqrt(variance)\n",
    "    confidence = t * deviation / math.sqrt(n)\n",
    "    return (mean * 5, confidence * 5)"
   ]
  },
  {
   "cell_type": "code",
   "execution_count": 9,
   "metadata": {
    "collapsed": false
   },
   "outputs": [
    {
     "name": "stdout",
     "output_type": "stream",
     "text": [
      "10000 итераций:\n",
      "\tИнтеграл 1.2466394781073546 ± 0.0017100330858498913;\n",
      "\tДоверительный интервал (1.2449294450215047, 1.2483495111932046)\n",
      "\n",
      "1000000 итераций:\n",
      "\tИнтеграл 1.247442748103257 ± 0.00017091110664507332;\n",
      "\tДоверительный интервал (1.247271836996612, 1.247613659209902)\n",
      "\n"
     ]
    }
   ],
   "source": [
    "for n in [10000, 1000000]:\n",
    "    value, confidence = task_3(n)\n",
    "    print(\"{} итераций:\\n\\tИнтеграл {} ± {};\\n\\tДоверительный интервал ({}, {})\"\n",
    "        .format(n, value, confidence, value - confidence, value + confidence))\n",
    "    print()"
   ]
  }
 ],
 "metadata": {
  "kernelspec": {
   "display_name": "Python 3",
   "language": "python",
   "name": "python3"
  },
  "language_info": {
   "codemirror_mode": {
    "name": "ipython",
    "version": 3
   },
   "file_extension": ".py",
   "mimetype": "text/x-python",
   "name": "python",
   "nbconvert_exporter": "python",
   "pygments_lexer": "ipython3",
   "version": "3.5.2"
  }
 },
 "nbformat": 4,
 "nbformat_minor": 1
}
